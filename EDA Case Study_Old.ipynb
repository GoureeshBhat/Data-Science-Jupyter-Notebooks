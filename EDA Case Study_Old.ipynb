{
 "cells": [
  {
   "cell_type": "markdown",
   "id": "4a00de62",
   "metadata": {},
   "source": [
    "# EDA Case Study"
   ]
  },
  {
   "cell_type": "code",
   "execution_count": null,
   "id": "aeda1c3d",
   "metadata": {},
   "outputs": [],
   "source": [
    "import warnings\n",
    "\n",
    "warnings.filterwarnings('ignore')"
   ]
  },
  {
   "cell_type": "code",
   "execution_count": null,
   "id": "5045bdd5",
   "metadata": {},
   "outputs": [],
   "source": [
    "import numpy as np\n",
    "import pandas as pd\n",
    "import seaborn as sns\n",
    "import matplotlib.pyplot as plt"
   ]
  },
  {
   "cell_type": "markdown",
   "id": "f418f8ad",
   "metadata": {},
   "source": [
    "### Reading the Data"
   ]
  },
  {
   "cell_type": "code",
   "execution_count": null,
   "id": "e70dc27c",
   "metadata": {},
   "outputs": [],
   "source": [
    "df = pd.read_csv('application_data.csv')"
   ]
  },
  {
   "cell_type": "markdown",
   "id": "3216016c",
   "metadata": {},
   "source": [
    "### Inspecting the Data Frame"
   ]
  },
  {
   "cell_type": "code",
   "execution_count": null,
   "id": "4a4d2cb2",
   "metadata": {},
   "outputs": [],
   "source": [
    "pd.set_option('display.max_columns',300) # To display all the columns\n",
    "pd.set_option('display.max_rows',300)\n",
    "pd.set_option('display.width',1000)\n",
    "df.head()"
   ]
  },
  {
   "cell_type": "code",
   "execution_count": null,
   "id": "ff5179f7",
   "metadata": {},
   "outputs": [],
   "source": [
    "df.tail()"
   ]
  },
  {
   "cell_type": "code",
   "execution_count": null,
   "id": "e17d93d8",
   "metadata": {},
   "outputs": [],
   "source": [
    "df.shape"
   ]
  },
  {
   "cell_type": "code",
   "execution_count": null,
   "id": "bb6ef0f3",
   "metadata": {},
   "outputs": [],
   "source": [
    "#df.info()\n",
    "df.info(verbose=True, null_counts=True)"
   ]
  },
  {
   "cell_type": "code",
   "execution_count": null,
   "id": "2da8af59",
   "metadata": {},
   "outputs": [],
   "source": [
    "df.isnull().sum()"
   ]
  },
  {
   "cell_type": "code",
   "execution_count": null,
   "id": "2fb26ed4",
   "metadata": {},
   "outputs": [],
   "source": [
    "df.columns"
   ]
  },
  {
   "cell_type": "code",
   "execution_count": null,
   "id": "42e93fdd",
   "metadata": {},
   "outputs": [],
   "source": [
    "df.describe()"
   ]
  },
  {
   "cell_type": "code",
   "execution_count": null,
   "id": "eefd9cb7",
   "metadata": {},
   "outputs": [],
   "source": [
    "#Sorting by the count of NAN values in descending order\n",
    "df.isna().sum().sort_values(ascending=False).head(25)"
   ]
  },
  {
   "cell_type": "code",
   "execution_count": null,
   "id": "900a2022",
   "metadata": {},
   "outputs": [],
   "source": [
    "# Checking the Null value percentage of each column\n",
    "(df.isnull().sum()/len(df)*100).sort_values()"
   ]
  },
  {
   "cell_type": "markdown",
   "id": "cb0a2a5f",
   "metadata": {},
   "source": [
    "Since there are multiple columns with greater than 32% null values, analysing those columns might not give the accurate results. So, will remove those columns and analyse the remaining columns."
   ]
  },
  {
   "cell_type": "code",
   "execution_count": null,
   "id": "b0988a52",
   "metadata": {},
   "outputs": [],
   "source": [
    "# Removing the columns with more than 32% NAN values.\n",
    "df = df.loc[:,df.isnull().mean() <=32]"
   ]
  },
  {
   "cell_type": "code",
   "execution_count": null,
   "id": "3536f6af",
   "metadata": {},
   "outputs": [],
   "source": [
    "df.shape"
   ]
  },
  {
   "cell_type": "code",
   "execution_count": null,
   "id": "4f27aa12",
   "metadata": {},
   "outputs": [],
   "source": [
    "# Again Sorting by the count of NAN values in descending order and checking\n",
    "df.isna().sum().sort_values(ascending=False).head(25)"
   ]
  },
  {
   "cell_type": "code",
   "execution_count": null,
   "id": "f61c2355",
   "metadata": {},
   "outputs": [],
   "source": [
    "df.info(verbose=True, null_counts=True)"
   ]
  },
  {
   "cell_type": "code",
   "execution_count": null,
   "id": "aab2bc3a",
   "metadata": {},
   "outputs": [],
   "source": [
    "# To check categorical columns\n",
    "list(set(df.columns) - set(df.describe().columns))"
   ]
  },
  {
   "cell_type": "code",
   "execution_count": null,
   "id": "bc3a2ec9",
   "metadata": {},
   "outputs": [],
   "source": [
    "# To check numerical columns\n",
    "df.describe().columns"
   ]
  },
  {
   "cell_type": "markdown",
   "id": "9918404f",
   "metadata": {},
   "source": [
    "### Null Value Imputations"
   ]
  },
  {
   "cell_type": "code",
   "execution_count": null,
   "id": "a048585d",
   "metadata": {},
   "outputs": [],
   "source": [
    "# Checking the columns having less null percentage\n",
    "df.isnull().sum()/len(df)*100"
   ]
  },
  {
   "cell_type": "code",
   "execution_count": null,
   "id": "b7701a18",
   "metadata": {},
   "outputs": [],
   "source": [
    "(df.isnull().sum()/len(df)*100).sort_values()"
   ]
  },
  {
   "cell_type": "markdown",
   "id": "bf4afc52",
   "metadata": {},
   "source": [
    "Let us consider the columns with null values less than or equal to 32% and impute the missing values."
   ]
  },
  {
   "cell_type": "code",
   "execution_count": null,
   "id": "c2f9f623",
   "metadata": {},
   "outputs": [],
   "source": [
    "# Selecting columns with null values greater than zero and less than or equal to 13% for imputation.\n",
    "list(df.columns[(df.isnull().sum()/len(df)*100 <=32) & (df.isnull().sum()/len(df)*100 >0)])"
   ]
  },
  {
   "cell_type": "markdown",
   "id": "be40fbfd",
   "metadata": {},
   "source": [
    "#### AMT_ANNUITY Imputation"
   ]
  },
  {
   "cell_type": "code",
   "execution_count": null,
   "id": "916130c4",
   "metadata": {},
   "outputs": [],
   "source": [
    "df['AMT_ANNUITY'].value_counts()"
   ]
  },
  {
   "cell_type": "code",
   "execution_count": null,
   "id": "d1a7afc8",
   "metadata": {},
   "outputs": [],
   "source": [
    "df['AMT_ANNUITY'].describe()"
   ]
  },
  {
   "cell_type": "code",
   "execution_count": null,
   "id": "969baa36",
   "metadata": {},
   "outputs": [],
   "source": [
    "# 'AMT_ANNUITY' is a continuous variable. Checking for Outliers.\n",
    "sns.boxplot(df['AMT_ANNUITY'])\n",
    "plt.show()"
   ]
  },
  {
   "cell_type": "markdown",
   "id": "6571dcc6",
   "metadata": {},
   "source": [
    "Since it has outliers, it can be imputed using the Median i.e, 24903.0"
   ]
  },
  {
   "cell_type": "code",
   "execution_count": null,
   "id": "6bab0a01",
   "metadata": {},
   "outputs": [],
   "source": [
    "df['AMT_ANNUITY'].fillna(df['AMT_ANNUITY'].median(), inplace=True)"
   ]
  },
  {
   "cell_type": "code",
   "execution_count": null,
   "id": "a50b910b",
   "metadata": {},
   "outputs": [],
   "source": [
    "# Rechecking that value has been imputed or not.\n",
    "df.isnull().sum()/len(df)*100"
   ]
  },
  {
   "cell_type": "markdown",
   "id": "2e8bf267",
   "metadata": {},
   "source": [
    "#### AMT_GOODS_PRICE Imputation"
   ]
  },
  {
   "cell_type": "code",
   "execution_count": null,
   "id": "50a1a8b0",
   "metadata": {},
   "outputs": [],
   "source": [
    "df['AMT_GOODS_PRICE'].value_counts()"
   ]
  },
  {
   "cell_type": "code",
   "execution_count": null,
   "id": "d0cf0cc4",
   "metadata": {},
   "outputs": [],
   "source": [
    "df['AMT_GOODS_PRICE'].describe()"
   ]
  },
  {
   "cell_type": "code",
   "execution_count": null,
   "id": "6b935679",
   "metadata": {},
   "outputs": [],
   "source": [
    "# 'AMT_GOODS_PRICE' is a continuous variable. Checking for Outliers.\n",
    "sns.boxplot(df['AMT_GOODS_PRICE'])\n",
    "plt.show()"
   ]
  },
  {
   "cell_type": "markdown",
   "id": "16ca3afb",
   "metadata": {},
   "source": [
    "Since it has outliers, it can be imputed using the Median."
   ]
  },
  {
   "cell_type": "code",
   "execution_count": null,
   "id": "920b5d57",
   "metadata": {},
   "outputs": [],
   "source": [
    "df['AMT_GOODS_PRICE'].fillna(df['AMT_GOODS_PRICE'].median(), inplace=True)"
   ]
  },
  {
   "cell_type": "markdown",
   "id": "dcdcbbd6",
   "metadata": {},
   "source": [
    "#### NAME_TYPE_SUITE Imputation"
   ]
  },
  {
   "cell_type": "code",
   "execution_count": null,
   "id": "ffae24c0",
   "metadata": {},
   "outputs": [],
   "source": [
    "df['NAME_TYPE_SUITE'].value_counts()"
   ]
  },
  {
   "cell_type": "markdown",
   "id": "2bb97eb0",
   "metadata": {},
   "source": [
    "Certainly, column 'NAME_TYPE_SUITE' is a categorical one. So, it can imputed with the mode of the column i.e, Unaccompanied."
   ]
  },
  {
   "cell_type": "code",
   "execution_count": null,
   "id": "fbdcc91a",
   "metadata": {},
   "outputs": [],
   "source": [
    "df['NAME_TYPE_SUITE'].fillna(df['NAME_TYPE_SUITE'].mode()[0], inplace=True)"
   ]
  },
  {
   "cell_type": "markdown",
   "id": "fadd9fae",
   "metadata": {},
   "source": [
    "#### CNT_FAM_MEMBERS Imputation"
   ]
  },
  {
   "cell_type": "code",
   "execution_count": null,
   "id": "4b5cdd62",
   "metadata": {},
   "outputs": [],
   "source": [
    "df['CNT_FAM_MEMBERS'].value_counts()"
   ]
  },
  {
   "cell_type": "code",
   "execution_count": null,
   "id": "57951616",
   "metadata": {},
   "outputs": [],
   "source": [
    "# 'CNT_FAM_MEMBERS' is a continuous variable. Checking for Outliers.\n",
    "sns.boxplot(df['CNT_FAM_MEMBERS'])\n",
    "plt.show()"
   ]
  },
  {
   "cell_type": "markdown",
   "id": "02045b7a",
   "metadata": {},
   "source": [
    "Since it has outliers, it can be imputed using the Median."
   ]
  },
  {
   "cell_type": "code",
   "execution_count": null,
   "id": "c5c7a88f",
   "metadata": {},
   "outputs": [],
   "source": [
    "df['CNT_FAM_MEMBERS'].describe()"
   ]
  },
  {
   "cell_type": "code",
   "execution_count": null,
   "id": "05fa980b",
   "metadata": {},
   "outputs": [],
   "source": [
    "df['CNT_FAM_MEMBERS'].fillna(df['CNT_FAM_MEMBERS'].median(), inplace=True)"
   ]
  },
  {
   "cell_type": "markdown",
   "id": "10889ee4",
   "metadata": {},
   "source": [
    "#### EXT_SOURCE_2 Imputation"
   ]
  },
  {
   "cell_type": "code",
   "execution_count": null,
   "id": "3a1f7922",
   "metadata": {},
   "outputs": [],
   "source": [
    "df['EXT_SOURCE_2'].value_counts()"
   ]
  },
  {
   "cell_type": "code",
   "execution_count": null,
   "id": "3d52f999",
   "metadata": {},
   "outputs": [],
   "source": [
    "# 'EXT_SOURCE_2' is a continuous variable. Checking for Outliers.\n",
    "sns.boxplot(df['EXT_SOURCE_2'])\n",
    "plt.show()"
   ]
  },
  {
   "cell_type": "markdown",
   "id": "a994d141",
   "metadata": {},
   "source": [
    "Since, it has no outliers, we can choose mean, if mean and median are almost same else we can choose median to impute the null values."
   ]
  },
  {
   "cell_type": "code",
   "execution_count": null,
   "id": "ffb7670c",
   "metadata": {},
   "outputs": [],
   "source": [
    "df['EXT_SOURCE_2'].describe()"
   ]
  },
  {
   "cell_type": "markdown",
   "id": "e241dcbf",
   "metadata": {},
   "source": [
    "Since mean and median are almost same, we can impute null values using Mean of the column."
   ]
  },
  {
   "cell_type": "code",
   "execution_count": null,
   "id": "592daa01",
   "metadata": {},
   "outputs": [],
   "source": [
    "df['EXT_SOURCE_2'].fillna(df['EXT_SOURCE_2'].mean(), inplace=True)"
   ]
  },
  {
   "cell_type": "code",
   "execution_count": null,
   "id": "a303ffb5",
   "metadata": {},
   "outputs": [],
   "source": [
    "# Rechecking that value has been imputed or not.\n",
    "df.isnull().sum()/len(df)*100"
   ]
  },
  {
   "cell_type": "markdown",
   "id": "2bf7deb3",
   "metadata": {},
   "source": [
    "#### OCCUPATION_TYPE Imputation"
   ]
  },
  {
   "cell_type": "code",
   "execution_count": null,
   "id": "7ff8f8c0",
   "metadata": {},
   "outputs": [],
   "source": [
    "df['OCCUPATION_TYPE'].value_counts()"
   ]
  },
  {
   "cell_type": "markdown",
   "id": "ba5582bb",
   "metadata": {},
   "source": [
    "Clearly, column 'OCCUPATION_TYPE' is a categorical one. So, let us plot a count plot."
   ]
  },
  {
   "cell_type": "code",
   "execution_count": null,
   "id": "63391d33",
   "metadata": {},
   "outputs": [],
   "source": [
    "sns.countplot(x= 'OCCUPATION_TYPE', data=df)\n",
    "plt.xticks(rotation=90)\n",
    "plt.show()"
   ]
  },
  {
   "cell_type": "code",
   "execution_count": null,
   "id": "cb09fe44",
   "metadata": {},
   "outputs": [],
   "source": [
    "#Since laborers type is the majority Occupation type, we can impute null values with the Laborers Type.\n",
    "df['OCCUPATION_TYPE'].fillna(df['OCCUPATION_TYPE'].mode()[0], inplace=True)"
   ]
  },
  {
   "cell_type": "markdown",
   "id": "2387747c",
   "metadata": {},
   "source": [
    "#### EXT_SOURCE_3 Imputation"
   ]
  },
  {
   "cell_type": "code",
   "execution_count": null,
   "id": "6c71167f",
   "metadata": {},
   "outputs": [],
   "source": [
    "df['EXT_SOURCE_3'].value_counts()"
   ]
  },
  {
   "cell_type": "code",
   "execution_count": null,
   "id": "731089e1",
   "metadata": {},
   "outputs": [],
   "source": [
    "df['EXT_SOURCE_3'].plot.hist()\n",
    "plt.show()"
   ]
  },
  {
   "cell_type": "code",
   "execution_count": null,
   "id": "24d2005f",
   "metadata": {},
   "outputs": [],
   "source": [
    "df['EXT_SOURCE_3'].describe()"
   ]
  },
  {
   "cell_type": "code",
   "execution_count": null,
   "id": "a061c6fb",
   "metadata": {},
   "outputs": [],
   "source": [
    "df['EXT_SOURCE_3'].fillna(df['EXT_SOURCE_3'].mean(), inplace=True)"
   ]
  },
  {
   "cell_type": "markdown",
   "id": "25e2c84d",
   "metadata": {},
   "source": [
    "#### AMT_REQ_CREDIT_BUREAU_HOUR Imputation"
   ]
  },
  {
   "cell_type": "code",
   "execution_count": null,
   "id": "afcb4cc9",
   "metadata": {},
   "outputs": [],
   "source": [
    "df['AMT_REQ_CREDIT_BUREAU_HOUR'].value_counts()"
   ]
  },
  {
   "cell_type": "code",
   "execution_count": null,
   "id": "abea4f55",
   "metadata": {},
   "outputs": [],
   "source": [
    "sns.countplot(x='AMT_REQ_CREDIT_BUREAU_HOUR', data=df)\n",
    "plt.xticks(rotation=90)\n",
    "plt.show()"
   ]
  },
  {
   "cell_type": "markdown",
   "id": "5f807de4",
   "metadata": {},
   "source": [
    "Since the column only takes discrete values, so we cannot replace it by mean value.\n",
    "Lets replace by mode."
   ]
  },
  {
   "cell_type": "code",
   "execution_count": null,
   "id": "bf86a43e",
   "metadata": {},
   "outputs": [],
   "source": [
    "df['AMT_REQ_CREDIT_BUREAU_HOUR'].fillna(df['AMT_REQ_CREDIT_BUREAU_HOUR'].mode()[0], inplace=True)"
   ]
  },
  {
   "cell_type": "markdown",
   "id": "22e1168d",
   "metadata": {},
   "source": [
    "#### AMT_REQ_CREDIT_BUREAU_DAY Imputation"
   ]
  },
  {
   "cell_type": "code",
   "execution_count": null,
   "id": "ecb64c02",
   "metadata": {},
   "outputs": [],
   "source": [
    "df['AMT_REQ_CREDIT_BUREAU_DAY'].value_counts()"
   ]
  },
  {
   "cell_type": "markdown",
   "id": "e28f1049",
   "metadata": {},
   "source": [
    "Similarly, for this column also we need to impute with the mode of the column."
   ]
  },
  {
   "cell_type": "code",
   "execution_count": null,
   "id": "2e9cf625",
   "metadata": {},
   "outputs": [],
   "source": [
    "df['AMT_REQ_CREDIT_BUREAU_DAY'].fillna(df['AMT_REQ_CREDIT_BUREAU_DAY'].mode()[0], inplace=True)"
   ]
  },
  {
   "cell_type": "markdown",
   "id": "31259b0e",
   "metadata": {},
   "source": [
    "#### AMT_REQ_CREDIT_BUREAU_WEEK Imputation"
   ]
  },
  {
   "cell_type": "code",
   "execution_count": null,
   "id": "a05a56e4",
   "metadata": {},
   "outputs": [],
   "source": [
    "df['AMT_REQ_CREDIT_BUREAU_WEEK'].value_counts()"
   ]
  },
  {
   "cell_type": "markdown",
   "id": "5f3ffbd4",
   "metadata": {},
   "source": [
    "Similarly, for this column also we need to impute with the mode of the column."
   ]
  },
  {
   "cell_type": "code",
   "execution_count": null,
   "id": "a1f5f516",
   "metadata": {},
   "outputs": [],
   "source": [
    "df['AMT_REQ_CREDIT_BUREAU_WEEK'].fillna(df['AMT_REQ_CREDIT_BUREAU_WEEK'].mode()[0], inplace=True)"
   ]
  },
  {
   "cell_type": "markdown",
   "id": "2833872e",
   "metadata": {},
   "source": [
    "#### AMT_REQ_CREDIT_BUREAU_MON Imputation"
   ]
  },
  {
   "cell_type": "code",
   "execution_count": null,
   "id": "4490802b",
   "metadata": {},
   "outputs": [],
   "source": [
    "df['AMT_REQ_CREDIT_BUREAU_MON'].value_counts()"
   ]
  },
  {
   "cell_type": "markdown",
   "id": "e380faf8",
   "metadata": {},
   "source": [
    "Similarly, for this column also we need to impute with the mode of the column."
   ]
  },
  {
   "cell_type": "code",
   "execution_count": null,
   "id": "4d1bfa88",
   "metadata": {},
   "outputs": [],
   "source": [
    "df['AMT_REQ_CREDIT_BUREAU_MON'].fillna(df['AMT_REQ_CREDIT_BUREAU_MON'].mode()[0], inplace=True)"
   ]
  },
  {
   "cell_type": "markdown",
   "id": "2f86dbcb",
   "metadata": {},
   "source": [
    "#### AMT_REQ_CREDIT_BUREAU_QRT Imputation"
   ]
  },
  {
   "cell_type": "code",
   "execution_count": null,
   "id": "df4a629b",
   "metadata": {},
   "outputs": [],
   "source": [
    "df['AMT_REQ_CREDIT_BUREAU_QRT'].value_counts()"
   ]
  },
  {
   "cell_type": "markdown",
   "id": "c0cbe0d1",
   "metadata": {},
   "source": [
    "Similarly, for this column also we need to impute with the mode of the column."
   ]
  },
  {
   "cell_type": "code",
   "execution_count": null,
   "id": "8ba5de77",
   "metadata": {},
   "outputs": [],
   "source": [
    "df['AMT_REQ_CREDIT_BUREAU_QRT'].fillna(df['AMT_REQ_CREDIT_BUREAU_QRT'].mode()[0], inplace=True)"
   ]
  },
  {
   "cell_type": "markdown",
   "id": "2b33bff8",
   "metadata": {},
   "source": [
    "#### AMT_REQ_CREDIT_BUREAU_YEAR Imputation"
   ]
  },
  {
   "cell_type": "code",
   "execution_count": null,
   "id": "41538a3f",
   "metadata": {},
   "outputs": [],
   "source": [
    "df['AMT_REQ_CREDIT_BUREAU_YEAR'].value_counts()"
   ]
  },
  {
   "cell_type": "markdown",
   "id": "cf03e595",
   "metadata": {},
   "source": [
    "Similarly, for this column also we need to impute with the mode of the column."
   ]
  },
  {
   "cell_type": "code",
   "execution_count": null,
   "id": "b03c8e74",
   "metadata": {},
   "outputs": [],
   "source": [
    "df['AMT_REQ_CREDIT_BUREAU_YEAR'].fillna(df['AMT_REQ_CREDIT_BUREAU_YEAR'].mode()[0], inplace=True)"
   ]
  },
  {
   "cell_type": "markdown",
   "id": "fa8b2f79",
   "metadata": {},
   "source": [
    "#### OBS_30_CNT_SOCIAL_CIRCLE Imputation"
   ]
  },
  {
   "cell_type": "code",
   "execution_count": null,
   "id": "3a5214e5",
   "metadata": {},
   "outputs": [],
   "source": [
    "df['OBS_30_CNT_SOCIAL_CIRCLE'].value_counts()"
   ]
  },
  {
   "cell_type": "markdown",
   "id": "b5feac16",
   "metadata": {},
   "source": [
    "Similarly, for this column also we need to impute with the mode of the column."
   ]
  },
  {
   "cell_type": "code",
   "execution_count": null,
   "id": "e5021789",
   "metadata": {},
   "outputs": [],
   "source": [
    "df['OBS_30_CNT_SOCIAL_CIRCLE'].fillna(df['OBS_30_CNT_SOCIAL_CIRCLE'].mode()[0], inplace=True)"
   ]
  },
  {
   "cell_type": "markdown",
   "id": "9ec5e799",
   "metadata": {},
   "source": [
    "#### DEF_30_CNT_SOCIAL_CIRCLE Imputation"
   ]
  },
  {
   "cell_type": "code",
   "execution_count": null,
   "id": "38bc4d67",
   "metadata": {},
   "outputs": [],
   "source": [
    "df['DEF_30_CNT_SOCIAL_CIRCLE'].value_counts()"
   ]
  },
  {
   "cell_type": "code",
   "execution_count": null,
   "id": "46a6df64",
   "metadata": {},
   "outputs": [],
   "source": [
    "df['DEF_30_CNT_SOCIAL_CIRCLE'].fillna(df['DEF_30_CNT_SOCIAL_CIRCLE'].mode()[0], inplace=True)"
   ]
  },
  {
   "cell_type": "markdown",
   "id": "4bc8df5a",
   "metadata": {},
   "source": [
    "#### OBS_60_CNT_SOCIAL_CIRCLE Imputation"
   ]
  },
  {
   "cell_type": "code",
   "execution_count": null,
   "id": "9cdaee78",
   "metadata": {},
   "outputs": [],
   "source": [
    "df['OBS_60_CNT_SOCIAL_CIRCLE'].value_counts()"
   ]
  },
  {
   "cell_type": "code",
   "execution_count": null,
   "id": "e6574331",
   "metadata": {},
   "outputs": [],
   "source": [
    "df['OBS_60_CNT_SOCIAL_CIRCLE'].fillna(df['OBS_60_CNT_SOCIAL_CIRCLE'].mode()[0], inplace=True)"
   ]
  },
  {
   "cell_type": "markdown",
   "id": "952eb101",
   "metadata": {},
   "source": [
    "#### DEF_60_CNT_SOCIAL_CIRCLE Imputation"
   ]
  },
  {
   "cell_type": "code",
   "execution_count": null,
   "id": "5bb53898",
   "metadata": {},
   "outputs": [],
   "source": [
    "df['DEF_60_CNT_SOCIAL_CIRCLE'].value_counts()"
   ]
  },
  {
   "cell_type": "code",
   "execution_count": null,
   "id": "efa3ab60",
   "metadata": {},
   "outputs": [],
   "source": [
    "df['DEF_60_CNT_SOCIAL_CIRCLE'].fillna(df['DEF_60_CNT_SOCIAL_CIRCLE'].mode()[0], inplace=True)"
   ]
  },
  {
   "cell_type": "markdown",
   "id": "ad67cf8b",
   "metadata": {},
   "source": [
    "#### DAYS_LAST_PHONE_CHANGE Imputation"
   ]
  },
  {
   "cell_type": "code",
   "execution_count": null,
   "id": "18dd4794",
   "metadata": {},
   "outputs": [],
   "source": [
    "df['DAYS_LAST_PHONE_CHANGE'].value_counts()"
   ]
  },
  {
   "cell_type": "markdown",
   "id": "b7898670",
   "metadata": {},
   "source": [
    "DAYS_LAST_PHONE_CHANGE column contains negative values which is incorrect. It represents the Number of Days, so it should be positive. So we can convert it in to positive using 'abs' function."
   ]
  },
  {
   "cell_type": "code",
   "execution_count": null,
   "id": "a3e0c4c3",
   "metadata": {},
   "outputs": [],
   "source": [
    "df['DAYS_LAST_PHONE_CHANGE'] = abs(df['DAYS_LAST_PHONE_CHANGE'])"
   ]
  },
  {
   "cell_type": "code",
   "execution_count": null,
   "id": "dbd5374c",
   "metadata": {},
   "outputs": [],
   "source": [
    "df['DAYS_LAST_PHONE_CHANGE'].value_counts()"
   ]
  },
  {
   "cell_type": "code",
   "execution_count": null,
   "id": "ac234abf",
   "metadata": {},
   "outputs": [],
   "source": [
    "#Imputing with mode of the column\n",
    "df['DAYS_LAST_PHONE_CHANGE'].fillna(df['DAYS_LAST_PHONE_CHANGE'].mode()[0], inplace=True)"
   ]
  },
  {
   "cell_type": "code",
   "execution_count": null,
   "id": "2b2d5a3a",
   "metadata": {},
   "outputs": [],
   "source": [
    "# Rechecking that value has been imputed or not.\n",
    "df.isnull().sum()/len(df)*100"
   ]
  },
  {
   "cell_type": "markdown",
   "id": "8242e582",
   "metadata": {},
   "source": [
    "So, now Null values in the Dataset have been Imputed."
   ]
  },
  {
   "cell_type": "markdown",
   "id": "8d8d3a64",
   "metadata": {},
   "source": [
    "### Errors in Data types and Data"
   ]
  },
  {
   "cell_type": "markdown",
   "id": "06f446a9",
   "metadata": {},
   "source": [
    "##### Checking Numerical Columns"
   ]
  },
  {
   "cell_type": "markdown",
   "id": "59699119",
   "metadata": {},
   "source": [
    "#### Imputing the absolute values in columns containing days in negative numbers."
   ]
  },
  {
   "cell_type": "code",
   "execution_count": null,
   "id": "140c90fc",
   "metadata": {},
   "outputs": [],
   "source": [
    "df.head()"
   ]
  },
  {
   "cell_type": "code",
   "execution_count": null,
   "id": "2591f66c",
   "metadata": {},
   "outputs": [],
   "source": [
    "#Getting the list of columns that begin with 'DAYS'.\n",
    "[i for i in df if i.startswith('DAYS')]"
   ]
  },
  {
   "cell_type": "code",
   "execution_count": null,
   "id": "c2894c00",
   "metadata": {},
   "outputs": [],
   "source": [
    "# Rechecking\n",
    "df['DAYS_BIRTH'].value_counts()"
   ]
  },
  {
   "cell_type": "code",
   "execution_count": null,
   "id": "ae4b3ee2",
   "metadata": {},
   "outputs": [],
   "source": [
    "#Applying ABS function\n",
    "df['DAYS_BIRTH'] = abs(df['DAYS_BIRTH'])"
   ]
  },
  {
   "cell_type": "code",
   "execution_count": null,
   "id": "253596f3",
   "metadata": {},
   "outputs": [],
   "source": [
    "df['DAYS_EMPLOYED'].value_counts()"
   ]
  },
  {
   "cell_type": "code",
   "execution_count": null,
   "id": "be5fea4b",
   "metadata": {},
   "outputs": [],
   "source": [
    "#Applying ABS function\n",
    "df['DAYS_EMPLOYED'] = abs(df['DAYS_EMPLOYED'])"
   ]
  },
  {
   "cell_type": "code",
   "execution_count": null,
   "id": "0d095991",
   "metadata": {},
   "outputs": [],
   "source": [
    "# Rechecking\n",
    "df['DAYS_EMPLOYED'].value_counts()"
   ]
  },
  {
   "cell_type": "code",
   "execution_count": null,
   "id": "f9ce6161",
   "metadata": {},
   "outputs": [],
   "source": [
    "df['DAYS_REGISTRATION'].value_counts()"
   ]
  },
  {
   "cell_type": "code",
   "execution_count": null,
   "id": "85a5cd4e",
   "metadata": {},
   "outputs": [],
   "source": [
    "#Applying ABS function\n",
    "df['DAYS_REGISTRATION'] = abs(df['DAYS_REGISTRATION'])"
   ]
  },
  {
   "cell_type": "code",
   "execution_count": null,
   "id": "713efdd3",
   "metadata": {},
   "outputs": [],
   "source": [
    "# Rechecking\n",
    "df['DAYS_REGISTRATION'].value_counts()"
   ]
  },
  {
   "cell_type": "code",
   "execution_count": null,
   "id": "16f20630",
   "metadata": {},
   "outputs": [],
   "source": [
    "df['DAYS_ID_PUBLISH'].value_counts()"
   ]
  },
  {
   "cell_type": "code",
   "execution_count": null,
   "id": "625992c6",
   "metadata": {},
   "outputs": [],
   "source": [
    "#Applying ABS function\n",
    "df['DAYS_ID_PUBLISH'] = abs(df['DAYS_ID_PUBLISH'])"
   ]
  },
  {
   "cell_type": "code",
   "execution_count": null,
   "id": "18f48dbc",
   "metadata": {},
   "outputs": [],
   "source": [
    "# Rechecking\n",
    "df['DAYS_ID_PUBLISH'].value_counts()"
   ]
  },
  {
   "cell_type": "markdown",
   "id": "96587627",
   "metadata": {},
   "source": [
    "We have already imputed the absolute values for 'DAYS_LAST_PHONE_CHANGE' column earlier."
   ]
  },
  {
   "cell_type": "code",
   "execution_count": null,
   "id": "905773dc",
   "metadata": {},
   "outputs": [],
   "source": [
    "df.describe()"
   ]
  },
  {
   "cell_type": "markdown",
   "id": "6b93d78c",
   "metadata": {},
   "source": [
    "##### Checking Categorical Columns"
   ]
  },
  {
   "cell_type": "code",
   "execution_count": null,
   "id": "9d0aa898",
   "metadata": {},
   "outputs": [],
   "source": [
    "df.head(50)"
   ]
  },
  {
   "cell_type": "code",
   "execution_count": null,
   "id": "d3f414fb",
   "metadata": {},
   "outputs": [],
   "source": [
    "df['CODE_GENDER'].value_counts()"
   ]
  },
  {
   "cell_type": "markdown",
   "id": "bb7ace13",
   "metadata": {},
   "source": [
    "##### Replacing 'XNA' (Not Available) in the column 'CODE_GENDER'"
   ]
  },
  {
   "cell_type": "code",
   "execution_count": null,
   "id": "55b36f37",
   "metadata": {},
   "outputs": [],
   "source": [
    "#We can replace it with the mode of the column i.e, F.\n",
    "df.loc[df['CODE_GENDER'] == 'XNA', 'CODE_GENDER'] ='F'"
   ]
  },
  {
   "cell_type": "code",
   "execution_count": null,
   "id": "5af605ee",
   "metadata": {},
   "outputs": [],
   "source": [
    "df['CODE_GENDER'].value_counts()"
   ]
  },
  {
   "cell_type": "code",
   "execution_count": null,
   "id": "eb47c49a",
   "metadata": {},
   "outputs": [],
   "source": [
    "df['ORGANIZATION_TYPE'].value_counts()"
   ]
  },
  {
   "cell_type": "markdown",
   "id": "a9fcf3f7",
   "metadata": {},
   "source": [
    "##### Replacing 'XNA' (Not Available) in the column 'ORGANIZATION_TYPE'"
   ]
  },
  {
   "cell_type": "markdown",
   "id": "2dad2af5",
   "metadata": {},
   "source": [
    "Since the record count is a bit huge with value 'XNA' in the column 'ORGANIZATION_TYPE', we can simply convert the values to NAN."
   ]
  },
  {
   "cell_type": "code",
   "execution_count": null,
   "id": "899444bd",
   "metadata": {},
   "outputs": [],
   "source": [
    "#Replacing 'XNA' with NAN\n",
    "df = df.replace('XNA',np.NaN)"
   ]
  },
  {
   "cell_type": "code",
   "execution_count": null,
   "id": "d6a69fab",
   "metadata": {},
   "outputs": [],
   "source": [
    "# Rechecking\n",
    "df['ORGANIZATION_TYPE'].value_counts()"
   ]
  },
  {
   "cell_type": "markdown",
   "id": "2197834a",
   "metadata": {},
   "source": [
    "### Analysis"
   ]
  },
  {
   "cell_type": "markdown",
   "id": "32b3ef0b",
   "metadata": {},
   "source": [
    "##### Creating new columns and Splitting Dataset based on 'TARGET' column."
   ]
  },
  {
   "cell_type": "code",
   "execution_count": null,
   "id": "dbf9fe72",
   "metadata": {},
   "outputs": [],
   "source": [
    "#Creating AGE column from 'DAYS_BIRTH' column.\n",
    "df['AGE']=df['DAYS_BIRTH'].apply(lambda x: int(x/365))"
   ]
  },
  {
   "cell_type": "code",
   "execution_count": null,
   "id": "963d27b8",
   "metadata": {},
   "outputs": [],
   "source": [
    "df['AGE'].describe()"
   ]
  },
  {
   "cell_type": "code",
   "execution_count": null,
   "id": "dc27216a",
   "metadata": {},
   "outputs": [],
   "source": [
    "# Creating AGE bins/buckets for better analysis. (Converting continuous to categorical)\n",
    "df['Age_Bins']=pd.cut(df['AGE'],bins=[20,25,30,35,40,45,50,55,60,65,70],labels=['20-25','25-30','30-35','35-40','40-45','45-50','50-55','55-60','60-65','65-70'])"
   ]
  },
  {
   "cell_type": "code",
   "execution_count": null,
   "id": "a3094a1b",
   "metadata": {},
   "outputs": [],
   "source": [
    "df['Age_Bins']"
   ]
  },
  {
   "cell_type": "markdown",
   "id": "5a43efd6",
   "metadata": {},
   "source": [
    "Similarly, creating a new column by converting DAYS_EMPLOYED to years(years_of_employed)."
   ]
  },
  {
   "cell_type": "code",
   "execution_count": null,
   "id": "2eed60d4",
   "metadata": {},
   "outputs": [],
   "source": [
    "df['Years_of_Employed'] = df['DAYS_EMPLOYED']/365"
   ]
  },
  {
   "cell_type": "code",
   "execution_count": null,
   "id": "13effabf",
   "metadata": {},
   "outputs": [],
   "source": [
    "df['Years_of_Employed']"
   ]
  },
  {
   "cell_type": "code",
   "execution_count": null,
   "id": "ef697710",
   "metadata": {},
   "outputs": [],
   "source": [
    "#Converting the column to int type, so that we can devide them as 'Unemployed/Retired' and 'Employed' and create a new column 'Employment_Cat'.\n",
    "df['Years_of_Employed'] = df['Years_of_Employed'].astype(int)\n",
    "df['Employment_Cat'] = df['Years_of_Employed'].apply(lambda x: 'Unemployed/Retired' if x==0 else 'Employed')"
   ]
  },
  {
   "cell_type": "code",
   "execution_count": null,
   "id": "47c87ec2",
   "metadata": {},
   "outputs": [],
   "source": [
    "df['Employment_Cat'].value_counts()"
   ]
  },
  {
   "cell_type": "code",
   "execution_count": null,
   "id": "cb8f67d5",
   "metadata": {},
   "outputs": [],
   "source": [
    "# Binning based on the Children count\n",
    "df['child_count_group'] = pd.cut(df['CNT_CHILDREN'], bins=[0,2,5,10],labels=['0-2','2-5','More than 5'])"
   ]
  },
  {
   "cell_type": "code",
   "execution_count": null,
   "id": "2594d37c",
   "metadata": {},
   "outputs": [],
   "source": [
    "df['child_count_group'].value_counts()"
   ]
  },
  {
   "cell_type": "markdown",
   "id": "0903c82c",
   "metadata": {},
   "source": [
    "#### Analysing the TARGET column"
   ]
  },
  {
   "cell_type": "code",
   "execution_count": null,
   "id": "07e08966",
   "metadata": {},
   "outputs": [],
   "source": [
    "df['TARGET'].value_counts()"
   ]
  },
  {
   "cell_type": "code",
   "execution_count": null,
   "id": "5a7460cb",
   "metadata": {},
   "outputs": [],
   "source": [
    "df['TARGET'].value_counts(normalize=True)"
   ]
  },
  {
   "cell_type": "code",
   "execution_count": null,
   "id": "d4c7719d",
   "metadata": {},
   "outputs": [],
   "source": [
    "plt.pie(df['TARGET'].value_counts(normalize=True)*100,labels=['Non-Default(TARGET=0)','Default(TARGET=1)'],explode=(0,0.05),autopct='%1.f%%')\n",
    "plt.title('TARGET Variable - Defaulter vs Non-Defaulter')\n",
    "plt.show()"
   ]
  },
  {
   "cell_type": "markdown",
   "id": "e78cc958",
   "metadata": {},
   "source": [
    "So, it is clear from the pie chart that there is an imbalance between the people who defaulted and the people who did not. Almost 92% of the people didn't default whereas 8% of the people defaulted."
   ]
  },
  {
   "cell_type": "markdown",
   "id": "67512552",
   "metadata": {},
   "source": [
    "##### Dividing the Dataset into 2 based on the 'TARGET' column."
   ]
  },
  {
   "cell_type": "code",
   "execution_count": null,
   "id": "eb611ff9",
   "metadata": {},
   "outputs": [],
   "source": [
    "df_tar0 = df[df['TARGET']==0]\n",
    "df_tar1 = df[df['TARGET']==1]"
   ]
  },
  {
   "cell_type": "code",
   "execution_count": null,
   "id": "25d97279",
   "metadata": {},
   "outputs": [],
   "source": [
    "df_tar0.shape"
   ]
  },
  {
   "cell_type": "code",
   "execution_count": null,
   "id": "936d793d",
   "metadata": {},
   "outputs": [],
   "source": [
    "df_tar1.shape"
   ]
  },
  {
   "cell_type": "markdown",
   "id": "4ddc2287",
   "metadata": {},
   "source": [
    "### Univariate Analysis"
   ]
  },
  {
   "cell_type": "code",
   "execution_count": null,
   "id": "e57b34c2",
   "metadata": {},
   "outputs": [],
   "source": [
    "df.head()"
   ]
  },
  {
   "cell_type": "code",
   "execution_count": null,
   "id": "2140f0a5",
   "metadata": {},
   "outputs": [],
   "source": [
    "# Gender Distribution\n",
    "plt.figure(figsize=(15,5))\n",
    "plt.subplot(1,2,1)\n",
    "df_tar0['CODE_GENDER'].value_counts().plot(kind='bar', title='Gender Distribution for Applications with Non Payment Difficulties')\n",
    "plt.subplot(1,2,2)\n",
    "df_tar1['CODE_GENDER'].value_counts().plot(kind='bar', title='Gender Distribution for Applications with Payment Difficulties')\n",
    "plt.show()"
   ]
  },
  {
   "cell_type": "code",
   "execution_count": null,
   "id": "88370fbf",
   "metadata": {},
   "outputs": [],
   "source": [
    "# Ownership of Car distribution\n",
    "plt.figure(figsize=(15,5))\n",
    "plt.subplot(1,2,1)\n",
    "df_tar0['FLAG_OWN_CAR'].value_counts().plot(kind='bar', title='Ownership of Car Distribution for Applications with Non Payment Difficulties')\n",
    "plt.subplot(1,2,2)\n",
    "df_tar1['FLAG_OWN_CAR'].value_counts().plot(kind='bar', title='Ownership of Car Distribution for Applications with Payment Difficulties')\n",
    "plt.show()"
   ]
  },
  {
   "cell_type": "code",
   "execution_count": null,
   "id": "0683fde2",
   "metadata": {},
   "outputs": [],
   "source": [
    "# Ownership of Flat distribution\n",
    "plt.figure(figsize=(15,5))\n",
    "plt.subplot(1,2,1)\n",
    "df_tar0['FLAG_OWN_REALTY'].value_counts().plot(kind='bar', title='Ownership of Flat Distribution for Applications with Non Payment Difficulties')\n",
    "plt.subplot(1,2,2)\n",
    "df_tar1['FLAG_OWN_REALTY'].value_counts().plot(kind='bar', title='Ownership of Flat Distribution for Applications with Payment Difficulties')\n",
    "plt.show()"
   ]
  },
  {
   "cell_type": "code",
   "execution_count": null,
   "id": "f1258945",
   "metadata": {},
   "outputs": [],
   "source": [
    "# Employment Status of Loan Applicants\n",
    "plt.figure(figsize=(15,5))\n",
    "plt.subplot(1,2,1)\n",
    "df_tar0['Employment_Cat'].value_counts().plot(kind='pie', title='Employment Status for Applications with Non Payment Difficulties')\n",
    "plt.subplot(1,2,2)\n",
    "df_tar1['Employment_Cat'].value_counts().plot(kind='pie', title='Employment Status for Applications with Payment Difficulties')\n",
    "plt.show()"
   ]
  },
  {
   "cell_type": "code",
   "execution_count": null,
   "id": "de8da5ee",
   "metadata": {},
   "outputs": [],
   "source": [
    "# Income type of Loan Applicants\n",
    "plt.figure(figsize=(15,5))\n",
    "plt.subplot(1,2,1)\n",
    "df_tar0['NAME_INCOME_TYPE'].value_counts().plot(kind='bar', title='Income type for Applications with Non Payment Difficulties')\n",
    "plt.subplot(1,2,2)\n",
    "df_tar1['NAME_INCOME_TYPE'].value_counts().plot(kind='bar', title='Income type for Applications with Payment Difficulties')\n",
    "plt.show()"
   ]
  },
  {
   "cell_type": "code",
   "execution_count": null,
   "id": "7e982831",
   "metadata": {},
   "outputs": [],
   "source": [
    "# Family Status of Loan Applicants\n",
    "plt.figure(figsize=(15,5))\n",
    "plt.subplot(1,2,1)\n",
    "df_tar0['NAME_FAMILY_STATUS'].value_counts().plot(kind='bar', title='Family Status for Applications with Non Payment Difficulties')\n",
    "plt.subplot(1,2,2)\n",
    "df_tar1['NAME_FAMILY_STATUS'].value_counts().plot(kind='bar', title='Family Status for Applications with Payment Difficulties')\n",
    "plt.show()"
   ]
  },
  {
   "cell_type": "code",
   "execution_count": null,
   "id": "922e15e9",
   "metadata": {},
   "outputs": [],
   "source": [
    "# Education type of Loan Applicants\n",
    "plt.figure(figsize=(15,10))\n",
    "plt.subplot(1,2,1)\n",
    "df_tar0['NAME_EDUCATION_TYPE'].value_counts().plot(kind='bar', title='Education type for Applications with Non Payment Difficulties')\n",
    "plt.subplot(1,2,2)\n",
    "df_tar1['NAME_EDUCATION_TYPE'].value_counts().plot(kind='bar', title='Education type for Applications with Payment Difficulties')\n",
    "plt.show()"
   ]
  },
  {
   "cell_type": "code",
   "execution_count": null,
   "id": "5ab76362",
   "metadata": {},
   "outputs": [],
   "source": [
    "# Age buckets analysis of Loan Applicants\n",
    "plt.figure(figsize=(15,5))\n",
    "plt.subplot(1,2,1)\n",
    "df_tar0['Age_Bins'].value_counts().plot(kind='bar', title='Age bins for Applications with Non Payment Difficulties')\n",
    "plt.subplot(1,2,2)\n",
    "df_tar1['Age_Bins'].value_counts().plot(kind='bar', title='Age bins for Applications with Payment Difficulties')\n",
    "plt.show()"
   ]
  },
  {
   "cell_type": "code",
   "execution_count": null,
   "id": "05d838b2",
   "metadata": {},
   "outputs": [],
   "source": [
    "# Organization type analysis of Loan Applicants\n",
    "plt.figure(figsize=(15,5))\n",
    "df_tar0['ORGANIZATION_TYPE'].value_counts().plot(kind='bar', title='Organization type for Applications with Non Payment Difficulties')\n",
    "plt.show()"
   ]
  },
  {
   "cell_type": "code",
   "execution_count": null,
   "id": "5e4c187a",
   "metadata": {},
   "outputs": [],
   "source": [
    "plt.figure(figsize=(15,5))\n",
    "df_tar1['ORGANIZATION_TYPE'].value_counts().plot(kind='bar', title='Organization type for Applications with Payment Difficulties')\n",
    "plt.show()"
   ]
  },
  {
   "cell_type": "code",
   "execution_count": null,
   "id": "3d507f69",
   "metadata": {},
   "outputs": [],
   "source": [
    "# Contract type analysis\n",
    "plt.figure(figsize=(15,5))\n",
    "plt.subplot(1,2,1)\n",
    "df_tar0['NAME_CONTRACT_TYPE'].value_counts().plot(kind='pie', title='Contract type for Applications with Non Payment Difficulties')\n",
    "plt.subplot(1,2,2)\n",
    "df_tar1['NAME_CONTRACT_TYPE'].value_counts().plot(kind='pie', title='Contract type for Applications with Payment Difficulties')\n",
    "plt.show()"
   ]
  },
  {
   "cell_type": "code",
   "execution_count": null,
   "id": "2e42a5b4",
   "metadata": {},
   "outputs": [],
   "source": [
    "# Total Income of applicants\n",
    "plt.figure(figsize=(20,5))\n",
    "plt.subplot(1,2,1)\n",
    "plt.title('Total Income for Applications with Non Payment Difficulties')\n",
    "sns.boxplot(df_tar0['AMT_INCOME_TOTAL'])\n",
    "plt.subplot(1,2,2)\n",
    "plt.title('Total Income for Applications with Payment Difficulties')\n",
    "sns.boxplot(df_tar1['AMT_INCOME_TOTAL'])\n",
    "plt.show()"
   ]
  },
  {
   "cell_type": "code",
   "execution_count": null,
   "id": "3eb2979c",
   "metadata": {},
   "outputs": [],
   "source": [
    "df_tar0['AMT_INCOME_TOTAL'].quantile([0.1,0.25,0.5,0.75,0.9,0.95,0.99,1])"
   ]
  },
  {
   "cell_type": "code",
   "execution_count": null,
   "id": "efe3acb6",
   "metadata": {},
   "outputs": [],
   "source": [
    "df_tar1['AMT_INCOME_TOTAL'].quantile([0.1,0.25,0.5,0.75,0.9,0.95,0.99,1])"
   ]
  },
  {
   "cell_type": "code",
   "execution_count": null,
   "id": "7836c27e",
   "metadata": {},
   "outputs": [],
   "source": [
    "# Credit Amount analysis\n",
    "plt.figure(figsize=(15,5))\n",
    "plt.subplot(1,2,1)\n",
    "plt.title('Credit Amount for Applications with Non Payment Difficulties')\n",
    "sns.distplot(df_tar0['AMT_CREDIT'])\n",
    "plt.subplot(1,2,2)\n",
    "plt.title('Credit Amount for Applications with Payment Difficulties')\n",
    "sns.distplot(df_tar1['AMT_CREDIT'])\n",
    "plt.show()"
   ]
  },
  {
   "cell_type": "code",
   "execution_count": null,
   "id": "cd5ae66b",
   "metadata": {},
   "outputs": [],
   "source": [
    "# Loan Annuity analysis\n",
    "plt.figure(figsize=(15,5))\n",
    "plt.subplot(1,2,1)\n",
    "plt.title('Loan Annuity for Applications with Non Payment Difficulties')\n",
    "sns.distplot(df_tar0['AMT_ANNUITY'])\n",
    "plt.subplot(1,2,2)\n",
    "plt.title('Loan Annuity for Applications with Payment Difficulties')\n",
    "sns.distplot(df_tar1['AMT_ANNUITY'])\n",
    "plt.show()"
   ]
  },
  {
   "cell_type": "markdown",
   "id": "810993c4",
   "metadata": {},
   "source": [
    "#### Bivariate Analysis"
   ]
  },
  {
   "cell_type": "code",
   "execution_count": null,
   "id": "cde97626",
   "metadata": {},
   "outputs": [],
   "source": []
  }
 ],
 "metadata": {
  "kernelspec": {
   "display_name": "Python 3",
   "language": "python",
   "name": "python3"
  },
  "language_info": {
   "codemirror_mode": {
    "name": "ipython",
    "version": 3
   },
   "file_extension": ".py",
   "mimetype": "text/x-python",
   "name": "python",
   "nbconvert_exporter": "python",
   "pygments_lexer": "ipython3",
   "version": "3.8.8"
  }
 },
 "nbformat": 4,
 "nbformat_minor": 5
}
