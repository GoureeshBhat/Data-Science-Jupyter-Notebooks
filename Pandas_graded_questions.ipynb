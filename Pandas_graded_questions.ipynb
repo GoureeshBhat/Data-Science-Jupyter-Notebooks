{
 "cells": [
  {
   "cell_type": "code",
   "execution_count": 2,
   "metadata": {
    "id": "uutVSXkdGBfm"
   },
   "outputs": [],
   "source": [
    "import numpy as np\n",
    "import pandas as pd"
   ]
  },
  {
   "cell_type": "code",
   "execution_count": 3,
   "metadata": {
    "id": "D5qL_wtxGBfy"
   },
   "outputs": [],
   "source": [
    "df= pd.read_csv('MegaMart_sales.csv',header =0)"
   ]
  },
  {
   "cell_type": "code",
   "execution_count": 4,
   "metadata": {
    "id": "XnbRL0HIGBf0"
   },
   "outputs": [],
   "source": [
    "df_new= pd.read_csv('MegaMart_newsales.csv',header =0)"
   ]
  },
  {
   "cell_type": "markdown",
   "metadata": {
    "id": "8i2QXssbGBf1"
   },
   "source": [
    "\n"
   ]
  },
  {
   "cell_type": "markdown",
   "metadata": {
    "id": "MGItV5pWGBf6"
   },
   "source": [
    "#### Combining two data frames\n",
    "Question 1: Some of the orders are stored in another csv file named `megamart_new sales`. Read the csv file, store it in a data frame and add it to the `megamart_sales` data frame. Find the total sales value of the category 'Office Supplies'  after combining the dataframes\n",
    "\n",
    "    a)7970\n",
    "    b)6964\n",
    "    c)7494\n",
    "    d)6076"
   ]
  },
  {
   "cell_type": "code",
   "execution_count": 5,
   "metadata": {
    "id": "QYBtMG1NGBf7"
   },
   "outputs": [],
   "source": [
    "#your code here\n",
    "df_combined = pd.concat([df,df_new])"
   ]
  },
  {
   "cell_type": "code",
   "execution_count": 8,
   "metadata": {},
   "outputs": [
    {
     "data": {
      "text/html": [
       "<div>\n",
       "<style scoped>\n",
       "    .dataframe tbody tr th:only-of-type {\n",
       "        vertical-align: middle;\n",
       "    }\n",
       "\n",
       "    .dataframe tbody tr th {\n",
       "        vertical-align: top;\n",
       "    }\n",
       "\n",
       "    .dataframe thead th {\n",
       "        text-align: right;\n",
       "    }\n",
       "</style>\n",
       "<table border=\"1\" class=\"dataframe\">\n",
       "  <thead>\n",
       "    <tr style=\"text-align: right;\">\n",
       "      <th></th>\n",
       "      <th>Sales</th>\n",
       "    </tr>\n",
       "    <tr>\n",
       "      <th>Category</th>\n",
       "      <th></th>\n",
       "    </tr>\n",
       "  </thead>\n",
       "  <tbody>\n",
       "    <tr>\n",
       "      <th>Furniture</th>\n",
       "      <td>2460</td>\n",
       "    </tr>\n",
       "    <tr>\n",
       "      <th>Office Supplies</th>\n",
       "      <td>7970</td>\n",
       "    </tr>\n",
       "    <tr>\n",
       "      <th>Technology</th>\n",
       "      <td>8588</td>\n",
       "    </tr>\n",
       "  </tbody>\n",
       "</table>\n",
       "</div>"
      ],
      "text/plain": [
       "                 Sales\n",
       "Category              \n",
       "Furniture         2460\n",
       "Office Supplies   7970\n",
       "Technology        8588"
      ]
     },
     "execution_count": 8,
     "metadata": {},
     "output_type": "execute_result"
    }
   ],
   "source": [
    "#df_combined['Office Supplies'].sum()\n",
    "df_combined.head()\n",
    "df_combined.groupby('Category').agg({'Sales':'sum'})"
   ]
  },
  {
   "cell_type": "markdown",
   "metadata": {
    "id": "z4Z0ZMHsGBf9"
   },
   "source": [
    "#### Dropping duplicates\n",
    "Question 2: There are some duplicate rows in the data frame. Drop these rows and calculate the total sales value of the category Office Supplies.\n",
    "\n",
    "    a)7156\n",
    "    b)6496\n",
    "    c)6964\n",
    "    d)6023"
   ]
  },
  {
   "cell_type": "code",
   "execution_count": 10,
   "metadata": {
    "id": "35vdjyU2GBf_"
   },
   "outputs": [
    {
     "data": {
      "text/html": [
       "<div>\n",
       "<style scoped>\n",
       "    .dataframe tbody tr th:only-of-type {\n",
       "        vertical-align: middle;\n",
       "    }\n",
       "\n",
       "    .dataframe tbody tr th {\n",
       "        vertical-align: top;\n",
       "    }\n",
       "\n",
       "    .dataframe thead th {\n",
       "        text-align: right;\n",
       "    }\n",
       "</style>\n",
       "<table border=\"1\" class=\"dataframe\">\n",
       "  <thead>\n",
       "    <tr style=\"text-align: right;\">\n",
       "      <th></th>\n",
       "      <th>Sales</th>\n",
       "    </tr>\n",
       "    <tr>\n",
       "      <th>Category</th>\n",
       "      <th></th>\n",
       "    </tr>\n",
       "  </thead>\n",
       "  <tbody>\n",
       "    <tr>\n",
       "      <th>Furniture</th>\n",
       "      <td>2460</td>\n",
       "    </tr>\n",
       "    <tr>\n",
       "      <th>Office Supplies</th>\n",
       "      <td>6964</td>\n",
       "    </tr>\n",
       "    <tr>\n",
       "      <th>Technology</th>\n",
       "      <td>7494</td>\n",
       "    </tr>\n",
       "  </tbody>\n",
       "</table>\n",
       "</div>"
      ],
      "text/plain": [
       "                 Sales\n",
       "Category              \n",
       "Furniture         2460\n",
       "Office Supplies   6964\n",
       "Technology        7494"
      ]
     },
     "execution_count": 10,
     "metadata": {},
     "output_type": "execute_result"
    }
   ],
   "source": [
    "#your code here\n",
    "df_combined.drop_duplicates(subset=None,keep='first',inplace = True)\n",
    "df_combined.groupby('Category').agg({'Sales':'sum'})"
   ]
  },
  {
   "cell_type": "markdown",
   "metadata": {
    "id": "71CSKOO0GBgC"
   },
   "source": [
    "#### Best category-sub category \n",
    "Question 3: Find the most profitable category and sub category combination based on the net profit.\n",
    "\n",
    "\n",
    "    a)Furniture-Bookcases\n",
    "    b)Office supplies-Appliances\n",
    "    c)Office supplies-Storage\n",
    "    d)Technology-Phones"
   ]
  },
  {
   "cell_type": "code",
   "execution_count": 14,
   "metadata": {
    "id": "-W66EdQqGBgF"
   },
   "outputs": [
    {
     "data": {
      "text/html": [
       "<div>\n",
       "<style scoped>\n",
       "    .dataframe tbody tr th:only-of-type {\n",
       "        vertical-align: middle;\n",
       "    }\n",
       "\n",
       "    .dataframe tbody tr th {\n",
       "        vertical-align: top;\n",
       "    }\n",
       "\n",
       "    .dataframe thead th {\n",
       "        text-align: right;\n",
       "    }\n",
       "</style>\n",
       "<table border=\"1\" class=\"dataframe\">\n",
       "  <thead>\n",
       "    <tr style=\"text-align: right;\">\n",
       "      <th></th>\n",
       "      <th></th>\n",
       "      <th>Profit</th>\n",
       "    </tr>\n",
       "    <tr>\n",
       "      <th>Category</th>\n",
       "      <th>Sub-Category</th>\n",
       "      <th></th>\n",
       "    </tr>\n",
       "  </thead>\n",
       "  <tbody>\n",
       "    <tr>\n",
       "      <th rowspan=\"3\" valign=\"top\">Furniture</th>\n",
       "      <th>Bookcases</th>\n",
       "      <td>308</td>\n",
       "    </tr>\n",
       "    <tr>\n",
       "      <th>Chairs</th>\n",
       "      <td>-49</td>\n",
       "    </tr>\n",
       "    <tr>\n",
       "      <th>Furnishings</th>\n",
       "      <td>74</td>\n",
       "    </tr>\n",
       "    <tr>\n",
       "      <th rowspan=\"9\" valign=\"top\">Office Supplies</th>\n",
       "      <th>Appliances</th>\n",
       "      <td>229</td>\n",
       "    </tr>\n",
       "    <tr>\n",
       "      <th>Art</th>\n",
       "      <td>275</td>\n",
       "    </tr>\n",
       "    <tr>\n",
       "      <th>Binders</th>\n",
       "      <td>156</td>\n",
       "    </tr>\n",
       "    <tr>\n",
       "      <th>Envelopes</th>\n",
       "      <td>35</td>\n",
       "    </tr>\n",
       "    <tr>\n",
       "      <th>Fasteners</th>\n",
       "      <td>10</td>\n",
       "    </tr>\n",
       "    <tr>\n",
       "      <th>Labels</th>\n",
       "      <td>30</td>\n",
       "    </tr>\n",
       "    <tr>\n",
       "      <th>Paper</th>\n",
       "      <td>15</td>\n",
       "    </tr>\n",
       "    <tr>\n",
       "      <th>Storage</th>\n",
       "      <td>192</td>\n",
       "    </tr>\n",
       "    <tr>\n",
       "      <th>Supplies</th>\n",
       "      <td>103</td>\n",
       "    </tr>\n",
       "    <tr>\n",
       "      <th rowspan=\"4\" valign=\"top\">Technology</th>\n",
       "      <th>Accessories</th>\n",
       "      <td>215</td>\n",
       "    </tr>\n",
       "    <tr>\n",
       "      <th>Copiers</th>\n",
       "      <td>0</td>\n",
       "    </tr>\n",
       "    <tr>\n",
       "      <th>Machines</th>\n",
       "      <td>168</td>\n",
       "    </tr>\n",
       "    <tr>\n",
       "      <th>Phones</th>\n",
       "      <td>1618</td>\n",
       "    </tr>\n",
       "  </tbody>\n",
       "</table>\n",
       "</div>"
      ],
      "text/plain": [
       "                              Profit\n",
       "Category        Sub-Category        \n",
       "Furniture       Bookcases        308\n",
       "                Chairs           -49\n",
       "                Furnishings       74\n",
       "Office Supplies Appliances       229\n",
       "                Art              275\n",
       "                Binders          156\n",
       "                Envelopes         35\n",
       "                Fasteners         10\n",
       "                Labels            30\n",
       "                Paper             15\n",
       "                Storage          192\n",
       "                Supplies         103\n",
       "Technology      Accessories      215\n",
       "                Copiers            0\n",
       "                Machines         168\n",
       "                Phones          1618"
      ]
     },
     "execution_count": 14,
     "metadata": {},
     "output_type": "execute_result"
    }
   ],
   "source": [
    "#your code here\n",
    "df_combined.head()\n",
    "df_combined.groupby(['Category','Sub-Category']).agg({'Profit':'sum'})"
   ]
  },
  {
   "cell_type": "markdown",
   "metadata": {
    "id": "nIf1pLgbGBgG"
   },
   "source": [
    "#### Invalid order IDs\n",
    "Question 4: How many invalid order IDs are there in the data frame? An order id is of the form AZ-2011-Y where Y represents a whole number. A Order ID is said to be valid only if Y consists of 7 digits. Find the number of invalid order IDs in the data frame.\n",
    "    \n",
    "    a)6\n",
    "    b)7\n",
    "    c)8\n",
    "    d)9\n"
   ]
  },
  {
   "cell_type": "code",
   "execution_count": 16,
   "metadata": {
    "id": "umb45LP_GBgH"
   },
   "outputs": [
    {
     "data": {
      "text/plain": [
       "7    53\n",
       "6     6\n",
       "Name: no_of_digits, dtype: int64"
      ]
     },
     "execution_count": 16,
     "metadata": {},
     "output_type": "execute_result"
    }
   ],
   "source": [
    "#your code here\n",
    "df['Order no']=df['Order ID'].str.split('-')\n",
    "df['Order no']=df['Order no'].apply(lambda x: x[2])\n",
    "df['no_of_digits']=df['Order no'].apply(lambda x: len(x))\n",
    "df['no_of_digits'].value_counts()"
   ]
  },
  {
   "cell_type": "markdown",
   "metadata": {
    "id": "nTGiL7EgGBgJ"
   },
   "source": [
    "#### Occurence of furniture in top 25 sales\n",
    "Question 5: Find the top 25 orders based on sales value and find the number of orders which belong to furniture category.\n",
    "\n",
    "    a)2\n",
    "    b)3\n",
    "    c)4\n",
    "    d)5 "
   ]
  },
  {
   "cell_type": "code",
   "execution_count": 21,
   "metadata": {
    "id": "moF_6DakGBgK"
   },
   "outputs": [
    {
     "data": {
      "text/plain": [
       "(5, 8)"
      ]
     },
     "execution_count": 21,
     "metadata": {},
     "output_type": "execute_result"
    }
   ],
   "source": [
    "#your code here\n",
    "df_combined.head()\n",
    "df_top25 = df_combined.sort_values(by='Sales',ascending=False).head(25)\n",
    "df_top25[df_top25['Category']=='Furniture'].shape"
   ]
  },
  {
   "cell_type": "code",
   "execution_count": null,
   "metadata": {
    "id": "bsP41n7PGBgM"
   },
   "outputs": [],
   "source": []
  },
  {
   "cell_type": "markdown",
   "metadata": {
    "id": "arNK-W-jGBgN"
   },
   "source": [
    "#### And operation\n",
    "Question 6: Among the orders with sales>250 and profit>50, find the product name of the fourth highest order based on sales value.\n",
    "\n",
    "    a)Motorola Headset, with Caller ID\n",
    "    b)Panasonic Printer, Durable\t\n",
    "    c)Hoover Microwave, Red\t\n",
    "    d)Fellowes Lockers, Industrial\t"
   ]
  },
  {
   "cell_type": "code",
   "execution_count": 23,
   "metadata": {
    "id": "C_aeSSqEGBgN"
   },
   "outputs": [
    {
     "data": {
      "text/html": [
       "<div>\n",
       "<style scoped>\n",
       "    .dataframe tbody tr th:only-of-type {\n",
       "        vertical-align: middle;\n",
       "    }\n",
       "\n",
       "    .dataframe tbody tr th {\n",
       "        vertical-align: top;\n",
       "    }\n",
       "\n",
       "    .dataframe thead th {\n",
       "        text-align: right;\n",
       "    }\n",
       "</style>\n",
       "<table border=\"1\" class=\"dataframe\">\n",
       "  <thead>\n",
       "    <tr style=\"text-align: right;\">\n",
       "      <th></th>\n",
       "      <th>Order ID</th>\n",
       "      <th>Product Name</th>\n",
       "      <th>Discount</th>\n",
       "      <th>Sales</th>\n",
       "      <th>Profit</th>\n",
       "      <th>Quantity</th>\n",
       "      <th>Category</th>\n",
       "      <th>Sub-Category</th>\n",
       "    </tr>\n",
       "  </thead>\n",
       "  <tbody>\n",
       "    <tr>\n",
       "      <th>30</th>\n",
       "      <td>AZ-2011-1410648</td>\n",
       "      <td>Nokia Smart Phone, Full Size</td>\n",
       "      <td>0.0</td>\n",
       "      <td>1908</td>\n",
       "      <td>820</td>\n",
       "      <td>3</td>\n",
       "      <td>Technology</td>\n",
       "      <td>Phones</td>\n",
       "    </tr>\n",
       "    <tr>\n",
       "      <th>58</th>\n",
       "      <td>AZ-2011-176674</td>\n",
       "      <td>Hoover Microwave, Red</td>\n",
       "      <td>0.1</td>\n",
       "      <td>1667</td>\n",
       "      <td>185</td>\n",
       "      <td>6</td>\n",
       "      <td>Office Supplies</td>\n",
       "      <td>Appliances</td>\n",
       "    </tr>\n",
       "    <tr>\n",
       "      <th>8</th>\n",
       "      <td>AZ-2011-1174243</td>\n",
       "      <td>Nokia Audio Dock, with Caller ID</td>\n",
       "      <td>0.0</td>\n",
       "      <td>1334</td>\n",
       "      <td>200</td>\n",
       "      <td>8</td>\n",
       "      <td>Technology</td>\n",
       "      <td>Phones</td>\n",
       "    </tr>\n",
       "    <tr>\n",
       "      <th>20</th>\n",
       "      <td>AZ-2011-1322840</td>\n",
       "      <td>Motorola Headset, with Caller ID</td>\n",
       "      <td>0.0</td>\n",
       "      <td>957</td>\n",
       "      <td>316</td>\n",
       "      <td>12</td>\n",
       "      <td>Technology</td>\n",
       "      <td>Phones</td>\n",
       "    </tr>\n",
       "    <tr>\n",
       "      <th>3</th>\n",
       "      <td>AZ-2011-1372644</td>\n",
       "      <td>Panasonic Printer, Durable</td>\n",
       "      <td>0.0</td>\n",
       "      <td>800</td>\n",
       "      <td>168</td>\n",
       "      <td>3</td>\n",
       "      <td>Technology</td>\n",
       "      <td>Machines</td>\n",
       "    </tr>\n",
       "  </tbody>\n",
       "</table>\n",
       "</div>"
      ],
      "text/plain": [
       "           Order ID                      Product Name  Discount  Sales  \\\n",
       "30  AZ-2011-1410648      Nokia Smart Phone, Full Size       0.0   1908   \n",
       "58   AZ-2011-176674             Hoover Microwave, Red       0.1   1667   \n",
       "8   AZ-2011-1174243  Nokia Audio Dock, with Caller ID       0.0   1334   \n",
       "20  AZ-2011-1322840  Motorola Headset, with Caller ID       0.0    957   \n",
       "3   AZ-2011-1372644        Panasonic Printer, Durable       0.0    800   \n",
       "\n",
       "    Profit  Quantity         Category Sub-Category  \n",
       "30     820         3       Technology       Phones  \n",
       "58     185         6  Office Supplies   Appliances  \n",
       "8      200         8       Technology       Phones  \n",
       "20     316        12       Technology       Phones  \n",
       "3      168         3       Technology     Machines  "
      ]
     },
     "execution_count": 23,
     "metadata": {},
     "output_type": "execute_result"
    }
   ],
   "source": [
    "#your code here\n",
    "df_combined[(df_combined['Sales'] > 250) & (df_combined['Profit'] > 50)].sort_values(by='Sales',ascending=False).head()\n"
   ]
  },
  {
   "cell_type": "markdown",
   "metadata": {
    "id": "1bXtNj_VGBgO"
   },
   "source": [
    "#### Column manipulation\n",
    "Question 7: Remove the orders with negative profit by dropping the corresponding rows with negative `Profit`. Find the product that makes the lowest profit per Quantity in the Technology category.\n",
    "\n",
    "    a) Nokia Audio Dock, with Caller ID\n",
    "    b) Logitech Keyboard, Programmable\n",
    "    c) Motorola Headset, with Caller ID\n",
    "    d) Belkin Flash Drive, Bluetooth"
   ]
  },
  {
   "cell_type": "code",
   "execution_count": 29,
   "metadata": {
    "id": "6LahOfrbGBgP"
   },
   "outputs": [
    {
     "data": {
      "text/html": [
       "<div>\n",
       "<style scoped>\n",
       "    .dataframe tbody tr th:only-of-type {\n",
       "        vertical-align: middle;\n",
       "    }\n",
       "\n",
       "    .dataframe tbody tr th {\n",
       "        vertical-align: top;\n",
       "    }\n",
       "\n",
       "    .dataframe thead th {\n",
       "        text-align: right;\n",
       "    }\n",
       "</style>\n",
       "<table border=\"1\" class=\"dataframe\">\n",
       "  <thead>\n",
       "    <tr style=\"text-align: right;\">\n",
       "      <th></th>\n",
       "      <th>Order ID</th>\n",
       "      <th>Product Name</th>\n",
       "      <th>Discount</th>\n",
       "      <th>Sales</th>\n",
       "      <th>Profit</th>\n",
       "      <th>Quantity</th>\n",
       "      <th>Category</th>\n",
       "      <th>Sub-Category</th>\n",
       "      <th>Profit_per_qty</th>\n",
       "    </tr>\n",
       "  </thead>\n",
       "  <tbody>\n",
       "    <tr>\n",
       "      <th>39</th>\n",
       "      <td>AZ-2011-1536006</td>\n",
       "      <td>Logitech Keyboard, Programmable</td>\n",
       "      <td>0.0</td>\n",
       "      <td>666</td>\n",
       "      <td>66</td>\n",
       "      <td>9</td>\n",
       "      <td>Technology</td>\n",
       "      <td>Accessories</td>\n",
       "      <td>7.333333</td>\n",
       "    </tr>\n",
       "    <tr>\n",
       "      <th>2</th>\n",
       "      <td>AZ-2011-1087704</td>\n",
       "      <td>Belkin Flash Drive, Bluetooth</td>\n",
       "      <td>0.0</td>\n",
       "      <td>294</td>\n",
       "      <td>109</td>\n",
       "      <td>7</td>\n",
       "      <td>Technology</td>\n",
       "      <td>Accessories</td>\n",
       "      <td>15.571429</td>\n",
       "    </tr>\n",
       "    <tr>\n",
       "      <th>4</th>\n",
       "      <td>AZ-2011-1967754</td>\n",
       "      <td>Logitech Numeric Keypad, USB</td>\n",
       "      <td>0.0</td>\n",
       "      <td>93</td>\n",
       "      <td>40</td>\n",
       "      <td>2</td>\n",
       "      <td>Technology</td>\n",
       "      <td>Accessories</td>\n",
       "      <td>20.000000</td>\n",
       "    </tr>\n",
       "    <tr>\n",
       "      <th>8</th>\n",
       "      <td>AZ-2011-1174243</td>\n",
       "      <td>Nokia Audio Dock, with Caller ID</td>\n",
       "      <td>0.0</td>\n",
       "      <td>1334</td>\n",
       "      <td>200</td>\n",
       "      <td>8</td>\n",
       "      <td>Technology</td>\n",
       "      <td>Phones</td>\n",
       "      <td>25.000000</td>\n",
       "    </tr>\n",
       "    <tr>\n",
       "      <th>20</th>\n",
       "      <td>AZ-2011-1322840</td>\n",
       "      <td>Motorola Headset, with Caller ID</td>\n",
       "      <td>0.0</td>\n",
       "      <td>957</td>\n",
       "      <td>316</td>\n",
       "      <td>12</td>\n",
       "      <td>Technology</td>\n",
       "      <td>Phones</td>\n",
       "      <td>26.333333</td>\n",
       "    </tr>\n",
       "    <tr>\n",
       "      <th>3</th>\n",
       "      <td>AZ-2011-1372644</td>\n",
       "      <td>Panasonic Printer, Durable</td>\n",
       "      <td>0.0</td>\n",
       "      <td>800</td>\n",
       "      <td>168</td>\n",
       "      <td>3</td>\n",
       "      <td>Technology</td>\n",
       "      <td>Machines</td>\n",
       "      <td>56.000000</td>\n",
       "    </tr>\n",
       "    <tr>\n",
       "      <th>52</th>\n",
       "      <td>AZ-2011-1722024</td>\n",
       "      <td>Cisco Audio Dock, VoIP</td>\n",
       "      <td>0.0</td>\n",
       "      <td>364</td>\n",
       "      <td>142</td>\n",
       "      <td>2</td>\n",
       "      <td>Technology</td>\n",
       "      <td>Phones</td>\n",
       "      <td>71.000000</td>\n",
       "    </tr>\n",
       "    <tr>\n",
       "      <th>33</th>\n",
       "      <td>AZ-2011-1445262</td>\n",
       "      <td>Apple Smart Phone, Cordless</td>\n",
       "      <td>0.0</td>\n",
       "      <td>636</td>\n",
       "      <td>140</td>\n",
       "      <td>1</td>\n",
       "      <td>Technology</td>\n",
       "      <td>Phones</td>\n",
       "      <td>140.000000</td>\n",
       "    </tr>\n",
       "    <tr>\n",
       "      <th>30</th>\n",
       "      <td>AZ-2011-1410648</td>\n",
       "      <td>Nokia Smart Phone, Full Size</td>\n",
       "      <td>0.0</td>\n",
       "      <td>1908</td>\n",
       "      <td>820</td>\n",
       "      <td>3</td>\n",
       "      <td>Technology</td>\n",
       "      <td>Phones</td>\n",
       "      <td>273.333333</td>\n",
       "    </tr>\n",
       "  </tbody>\n",
       "</table>\n",
       "</div>"
      ],
      "text/plain": [
       "           Order ID                      Product Name  Discount  Sales  \\\n",
       "39  AZ-2011-1536006   Logitech Keyboard, Programmable       0.0    666   \n",
       "2   AZ-2011-1087704     Belkin Flash Drive, Bluetooth       0.0    294   \n",
       "4   AZ-2011-1967754      Logitech Numeric Keypad, USB       0.0     93   \n",
       "8   AZ-2011-1174243  Nokia Audio Dock, with Caller ID       0.0   1334   \n",
       "20  AZ-2011-1322840  Motorola Headset, with Caller ID       0.0    957   \n",
       "3   AZ-2011-1372644        Panasonic Printer, Durable       0.0    800   \n",
       "52  AZ-2011-1722024            Cisco Audio Dock, VoIP       0.0    364   \n",
       "33  AZ-2011-1445262       Apple Smart Phone, Cordless       0.0    636   \n",
       "30  AZ-2011-1410648      Nokia Smart Phone, Full Size       0.0   1908   \n",
       "\n",
       "    Profit  Quantity    Category Sub-Category  Profit_per_qty  \n",
       "39      66         9  Technology  Accessories        7.333333  \n",
       "2      109         7  Technology  Accessories       15.571429  \n",
       "4       40         2  Technology  Accessories       20.000000  \n",
       "8      200         8  Technology       Phones       25.000000  \n",
       "20     316        12  Technology       Phones       26.333333  \n",
       "3      168         3  Technology     Machines       56.000000  \n",
       "52     142         2  Technology       Phones       71.000000  \n",
       "33     140         1  Technology       Phones      140.000000  \n",
       "30     820         3  Technology       Phones      273.333333  "
      ]
     },
     "execution_count": 29,
     "metadata": {},
     "output_type": "execute_result"
    }
   ],
   "source": [
    "#your code here\n",
    "lowest_profit=df_combined[df_combined.Profit>0]\n",
    "lowest_profit=lowest_profit[lowest_profit['Category']=='Technology']\n",
    "lowest_profit['Profit_per_qty']=lowest_profit['Profit']/lowest_profit['Quantity']\n",
    "lowest_profit.sort_values(by='Profit_per_qty',ascending=True)"
   ]
  },
  {
   "cell_type": "code",
   "execution_count": null,
   "metadata": {},
   "outputs": [],
   "source": []
  }
 ],
 "metadata": {
  "colab": {
   "collapsed_sections": [],
   "name": "Pandas_graded_questions (2).ipynb",
   "provenance": []
  },
  "kernelspec": {
   "display_name": "Python 3",
   "language": "python",
   "name": "python3"
  },
  "language_info": {
   "codemirror_mode": {
    "name": "ipython",
    "version": 3
   },
   "file_extension": ".py",
   "mimetype": "text/x-python",
   "name": "python",
   "nbconvert_exporter": "python",
   "pygments_lexer": "ipython3",
   "version": "3.8.8"
  }
 },
 "nbformat": 4,
 "nbformat_minor": 1
}
