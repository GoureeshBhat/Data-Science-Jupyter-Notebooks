{
 "cells": [
  {
   "cell_type": "code",
   "execution_count": 2,
   "id": "96760478",
   "metadata": {},
   "outputs": [
    {
     "name": "stdout",
     "output_type": "stream",
     "text": [
      "Hello World\n"
     ]
    }
   ],
   "source": [
    "print(\"Hello World\")"
   ]
  },
  {
   "cell_type": "code",
   "execution_count": null,
   "id": "1c6a5b63",
   "metadata": {},
   "outputs": [],
   "source": [
    "name = input(\"What is your Name?\")"
   ]
  },
  {
   "cell_type": "code",
   "execution_count": null,
   "id": "91e5f191",
   "metadata": {},
   "outputs": [],
   "source": [
    "print(\"Hi\", name)"
   ]
  },
  {
   "cell_type": "code",
   "execution_count": null,
   "id": "02499fa9",
   "metadata": {},
   "outputs": [],
   "source": []
  },
  {
   "cell_type": "code",
   "execution_count": null,
   "id": "2d13f233",
   "metadata": {},
   "outputs": [],
   "source": []
  }
 ],
 "metadata": {
  "kernelspec": {
   "display_name": "Python 3",
   "language": "python",
   "name": "python3"
  },
  "language_info": {
   "codemirror_mode": {
    "name": "ipython",
    "version": 3
   },
   "file_extension": ".py",
   "mimetype": "text/x-python",
   "name": "python",
   "nbconvert_exporter": "python",
   "pygments_lexer": "ipython3",
   "version": "3.8.8"
  }
 },
 "nbformat": 4,
 "nbformat_minor": 5
}
